{
 "cells": [
  {
   "cell_type": "code",
   "execution_count": 1,
   "metadata": {
    "colab": {
     "base_uri": "https://localhost:8080/"
    },
    "executionInfo": {
     "elapsed": 2963,
     "status": "ok",
     "timestamp": 1749702460841,
     "user": {
      "displayName": "Muhammad Ilyas Arsyad",
      "userId": "14715412778199729868"
     },
     "user_tz": -420
    },
    "id": "9pDF-KVpI1Qk",
    "outputId": "54737985-deb9-4c2c-98a8-6d7d6fa25285"
   },
   "outputs": [],
   "source": [
    "# from google.colab import drive\n",
    "# drive.mount('/content/drive')"
   ]
  },
  {
   "cell_type": "code",
   "execution_count": 2,
   "metadata": {
    "colab": {
     "base_uri": "https://localhost:8080/"
    },
    "executionInfo": {
     "elapsed": 5847,
     "status": "ok",
     "timestamp": 1749702466686,
     "user": {
      "displayName": "Muhammad Ilyas Arsyad",
      "userId": "14715412778199729868"
     },
     "user_tz": -420
    },
    "id": "UFTto8PQSauZ",
    "outputId": "2093e2a5-bebb-439d-bb2b-798b976f6bc5"
   },
   "outputs": [],
   "source": [
    "# pip install catboost"
   ]
  },
  {
   "cell_type": "code",
   "execution_count": 3,
   "metadata": {
    "executionInfo": {
     "elapsed": 6,
     "status": "ok",
     "timestamp": 1749702466694,
     "user": {
      "displayName": "Muhammad Ilyas Arsyad",
      "userId": "14715412778199729868"
     },
     "user_tz": -420
    },
    "id": "doJ2MeWRk5HP"
   },
   "outputs": [],
   "source": [
    "import pandas as pd\n",
    "import numpy as np\n",
    "from sklearn.model_selection import StratifiedKFold, cross_val_score\n",
    "from sklearn.naive_bayes import GaussianNB\n",
    "from sklearn.linear_model import LogisticRegression\n",
    "from sklearn.svm import LinearSVC\n",
    "from sklearn.tree import DecisionTreeClassifier\n",
    "from sklearn.ensemble import RandomForestClassifier, AdaBoostClassifier\n",
    "from xgboost import XGBClassifier\n",
    "from catboost import CatBoostClassifier\n",
    "from sklearn.preprocessing import StandardScaler\n",
    "from sklearn.pipeline import make_pipeline\n",
    "from tqdm import tqdm\n",
    "import warnings\n",
    "warnings.filterwarnings('ignore')"
   ]
  },
  {
   "cell_type": "code",
   "execution_count": 4,
   "metadata": {
    "executionInfo": {
     "elapsed": 121,
     "status": "ok",
     "timestamp": 1749702466817,
     "user": {
      "displayName": "Muhammad Ilyas Arsyad",
      "userId": "14715412778199729868"
     },
     "user_tz": -420
    },
    "id": "GgtIZO2-k-CK"
   },
   "outputs": [],
   "source": [
    "df = pd.read_csv('cleaned_dataset.csv')"
   ]
  },
  {
   "cell_type": "code",
   "execution_count": 5,
   "metadata": {
    "executionInfo": {
     "elapsed": 7,
     "status": "ok",
     "timestamp": 1749702466827,
     "user": {
      "displayName": "Muhammad Ilyas Arsyad",
      "userId": "14715412778199729868"
     },
     "user_tz": -420
    },
    "id": "FmVasfGQlB9U"
   },
   "outputs": [],
   "source": [
    "df.drop(columns=['service_failure_count'], inplace=True)"
   ]
  },
  {
   "cell_type": "code",
   "execution_count": 6,
   "metadata": {
    "executionInfo": {
     "elapsed": 11,
     "status": "ok",
     "timestamp": 1749702466840,
     "user": {
      "displayName": "Muhammad Ilyas Arsyad",
      "userId": "14715412778199729868"
     },
     "user_tz": -420
    },
    "id": "bFU40OBFlCwG"
   },
   "outputs": [],
   "source": [
    "X = df.drop(columns=['churn'])\n",
    "y = df['churn']"
   ]
  },
  {
   "cell_type": "code",
   "execution_count": 7,
   "metadata": {
    "executionInfo": {
     "elapsed": 24,
     "status": "ok",
     "timestamp": 1749702466871,
     "user": {
      "displayName": "Muhammad Ilyas Arsyad",
      "userId": "14715412778199729868"
     },
     "user_tz": -420
    },
    "id": "nyxfPiPzFPlA"
   },
   "outputs": [],
   "source": [
    "models = {\n",
    "    \"Naive Bayes\": GaussianNB(),\n",
    "    \"Logistic Regression\": LogisticRegression(random_state=42),\n",
    "    \"Linear SVM\": LinearSVC(random_state=42),\n",
    "    \"Decision Tree\": DecisionTreeClassifier(max_depth=7, random_state=42),\n",
    "    \"Random Forest\": RandomForestClassifier(max_depth=7, random_state=42),\n",
    "    \"AdaBoost\": AdaBoostClassifier(random_state=42),\n",
    "    \"XGBoost\": XGBClassifier(use_label_encoder=False, eval_metric='logloss', random_state=42),\n",
    "    \"CatBoost\": CatBoostClassifier(verbose=0, random_state=42),\n",
    "}"
   ]
  },
  {
   "cell_type": "code",
   "execution_count": 8,
   "metadata": {
    "executionInfo": {
     "elapsed": 21,
     "status": "ok",
     "timestamp": 1749702466888,
     "user": {
      "displayName": "Muhammad Ilyas Arsyad",
      "userId": "14715412778199729868"
     },
     "user_tz": -420
    },
    "id": "ivACnhsYKj4v"
   },
   "outputs": [],
   "source": [
    "cv = StratifiedKFold(n_splits=5, shuffle=True, random_state=42)"
   ]
  },
  {
   "cell_type": "code",
   "execution_count": null,
   "metadata": {
    "colab": {
     "base_uri": "https://localhost:8080/"
    },
    "executionInfo": {
     "elapsed": 524331,
     "status": "ok",
     "timestamp": 1749702991211,
     "user": {
      "displayName": "Muhammad Ilyas Arsyad",
      "userId": "14715412778199729868"
     },
     "user_tz": -420
    },
    "id": "yxgveu-AlbJC",
    "outputId": "05c56cd9-1465-4255-8a72-1ec7c5444480"
   },
   "outputs": [
    {
     "name": "stderr",
     "output_type": "stream",
     "text": [
      "Cross-validating:  88%|████████▊ | 7/8 [01:00<00:10, 10.84s/it]"
     ]
    }
   ],
   "source": [
    "cv_results = []\n",
    "\n",
    "for name, model in tqdm(models.items(), desc=\"Cross-validating\"):\n",
    "    if name in [\"Logistic Regression\", \"Linear SVM\"]:\n",
    "        pipeline = make_pipeline(StandardScaler(), model)\n",
    "    else:\n",
    "        pipeline = model\n",
    "\n",
    "    accuracy_scores = cross_val_score(pipeline, X, y, cv=cv, scoring='accuracy')\n",
    "    f1_scores = cross_val_score(pipeline, X, y, cv=cv, scoring='f1')\n",
    "    recall_scores = cross_val_score(pipeline, X, y, cv=cv, scoring='recall')\n",
    "    roc_auc_scores = cross_val_score(pipeline, X, y, cv=cv, scoring='roc_auc')\n",
    "\n",
    "    cv_results.append({\n",
    "        \"Model\": name,\n",
    "        \"Accuracy Mean (%)\": round(np.mean(accuracy_scores) * 100, 2),\n",
    "        \"Accuracy Std (%)\": round(np.std(accuracy_scores) * 100, 2),\n",
    "        \"F1 Mean (%)\": round(np.mean(f1_scores) * 100, 2),\n",
    "        \"F1 Std (%)\": round(np.std(f1_scores) * 100, 2),\n",
    "        \"Recall Mean (%)\": round(np.mean(recall_scores) * 100, 2),\n",
    "        \"Recall Std (%)\": round(np.std(recall_scores) * 100, 2),\n",
    "        \"ROC AUC Mean\": round(np.mean(roc_auc_scores), 4),\n",
    "        \"ROC AUC Std\": round(np.std(roc_auc_scores), 4)\n",
    "    })"
   ]
  },
  {
   "cell_type": "code",
   "execution_count": null,
   "metadata": {
    "colab": {
     "base_uri": "https://localhost:8080/",
     "height": 300
    },
    "executionInfo": {
     "elapsed": 25,
     "status": "ok",
     "timestamp": 1749702991238,
     "user": {
      "displayName": "Muhammad Ilyas Arsyad",
      "userId": "14715412778199729868"
     },
     "user_tz": -420
    },
    "id": "8qJ96bbEls4P",
    "outputId": "20ecc628-6f59-4cb9-94af-96fe24d04cc9"
   },
   "outputs": [
    {
     "data": {
      "text/html": [
       "<div>\n",
       "<style scoped>\n",
       "    .dataframe tbody tr th:only-of-type {\n",
       "        vertical-align: middle;\n",
       "    }\n",
       "\n",
       "    .dataframe tbody tr th {\n",
       "        vertical-align: top;\n",
       "    }\n",
       "\n",
       "    .dataframe thead th {\n",
       "        text-align: right;\n",
       "    }\n",
       "</style>\n",
       "<table border=\"1\" class=\"dataframe\">\n",
       "  <thead>\n",
       "    <tr style=\"text-align: right;\">\n",
       "      <th></th>\n",
       "      <th>Model</th>\n",
       "      <th>Accuracy Mean (%)</th>\n",
       "      <th>Accuracy Std (%)</th>\n",
       "      <th>F1 Mean (%)</th>\n",
       "      <th>F1 Std (%)</th>\n",
       "      <th>Recall Mean (%)</th>\n",
       "      <th>Recall Std (%)</th>\n",
       "      <th>ROC AUC Mean</th>\n",
       "      <th>ROC AUC Std</th>\n",
       "    </tr>\n",
       "  </thead>\n",
       "  <tbody>\n",
       "    <tr>\n",
       "      <th>0</th>\n",
       "      <td>Naive Bayes</td>\n",
       "      <td>92.09</td>\n",
       "      <td>0.14</td>\n",
       "      <td>92.79</td>\n",
       "      <td>0.12</td>\n",
       "      <td>91.39</td>\n",
       "      <td>0.18</td>\n",
       "      <td>0.9435</td>\n",
       "      <td>0.0006</td>\n",
       "    </tr>\n",
       "    <tr>\n",
       "      <th>1</th>\n",
       "      <td>Logistic Regression</td>\n",
       "      <td>92.40</td>\n",
       "      <td>0.13</td>\n",
       "      <td>93.03</td>\n",
       "      <td>0.13</td>\n",
       "      <td>91.05</td>\n",
       "      <td>0.28</td>\n",
       "      <td>0.9554</td>\n",
       "      <td>0.0006</td>\n",
       "    </tr>\n",
       "    <tr>\n",
       "      <th>2</th>\n",
       "      <td>Linear SVM</td>\n",
       "      <td>91.96</td>\n",
       "      <td>0.12</td>\n",
       "      <td>92.59</td>\n",
       "      <td>0.12</td>\n",
       "      <td>90.23</td>\n",
       "      <td>0.26</td>\n",
       "      <td>0.9544</td>\n",
       "      <td>0.0006</td>\n",
       "    </tr>\n",
       "    <tr>\n",
       "      <th>3</th>\n",
       "      <td>Decision Tree</td>\n",
       "      <td>93.82</td>\n",
       "      <td>0.07</td>\n",
       "      <td>94.39</td>\n",
       "      <td>0.06</td>\n",
       "      <td>93.38</td>\n",
       "      <td>0.21</td>\n",
       "      <td>0.9646</td>\n",
       "      <td>0.0010</td>\n",
       "    </tr>\n",
       "    <tr>\n",
       "      <th>4</th>\n",
       "      <td>Random Forest</td>\n",
       "      <td>93.75</td>\n",
       "      <td>0.09</td>\n",
       "      <td>94.34</td>\n",
       "      <td>0.08</td>\n",
       "      <td>93.51</td>\n",
       "      <td>0.21</td>\n",
       "      <td>0.9698</td>\n",
       "      <td>0.0010</td>\n",
       "    </tr>\n",
       "    <tr>\n",
       "      <th>5</th>\n",
       "      <td>AdaBoost</td>\n",
       "      <td>93.37</td>\n",
       "      <td>0.13</td>\n",
       "      <td>93.99</td>\n",
       "      <td>0.12</td>\n",
       "      <td>93.21</td>\n",
       "      <td>0.22</td>\n",
       "      <td>0.9615</td>\n",
       "      <td>0.0015</td>\n",
       "    </tr>\n",
       "    <tr>\n",
       "      <th>6</th>\n",
       "      <td>XGBoost</td>\n",
       "      <td>94.23</td>\n",
       "      <td>0.08</td>\n",
       "      <td>94.79</td>\n",
       "      <td>0.08</td>\n",
       "      <td>94.22</td>\n",
       "      <td>0.25</td>\n",
       "      <td>0.9798</td>\n",
       "      <td>0.0007</td>\n",
       "    </tr>\n",
       "    <tr>\n",
       "      <th>7</th>\n",
       "      <td>CatBoost</td>\n",
       "      <td>94.31</td>\n",
       "      <td>0.11</td>\n",
       "      <td>94.86</td>\n",
       "      <td>0.11</td>\n",
       "      <td>94.19</td>\n",
       "      <td>0.29</td>\n",
       "      <td>0.9806</td>\n",
       "      <td>0.0006</td>\n",
       "    </tr>\n",
       "  </tbody>\n",
       "</table>\n",
       "</div>"
      ],
      "text/plain": [
       "                 Model  Accuracy Mean (%)  Accuracy Std (%)  F1 Mean (%)  \\\n",
       "0          Naive Bayes              92.09              0.14        92.79   \n",
       "1  Logistic Regression              92.40              0.13        93.03   \n",
       "2           Linear SVM              91.96              0.12        92.59   \n",
       "3        Decision Tree              93.82              0.07        94.39   \n",
       "4        Random Forest              93.75              0.09        94.34   \n",
       "5             AdaBoost              93.37              0.13        93.99   \n",
       "6              XGBoost              94.23              0.08        94.79   \n",
       "7             CatBoost              94.31              0.11        94.86   \n",
       "\n",
       "   F1 Std (%)  Recall Mean (%)  Recall Std (%)  ROC AUC Mean  ROC AUC Std  \n",
       "0        0.12            91.39            0.18        0.9435       0.0006  \n",
       "1        0.13            91.05            0.28        0.9554       0.0006  \n",
       "2        0.12            90.23            0.26        0.9544       0.0006  \n",
       "3        0.06            93.38            0.21        0.9646       0.0010  \n",
       "4        0.08            93.51            0.21        0.9698       0.0010  \n",
       "5        0.12            93.21            0.22        0.9615       0.0015  \n",
       "6        0.08            94.22            0.25        0.9798       0.0007  \n",
       "7        0.11            94.19            0.29        0.9806       0.0006  "
      ]
     },
     "execution_count": 14,
     "metadata": {},
     "output_type": "execute_result"
    }
   ],
   "source": [
    "cv_df = pd.DataFrame(cv_results)\n",
    "cv_df"
   ]
  },
  {
   "cell_type": "code",
   "execution_count": null,
   "metadata": {
    "executionInfo": {
     "elapsed": 4,
     "status": "ok",
     "timestamp": 1749702991247,
     "user": {
      "displayName": "Muhammad Ilyas Arsyad",
      "userId": "14715412778199729868"
     },
     "user_tz": -420
    },
    "id": "9991365d"
   },
   "outputs": [],
   "source": [
    "cv_df.to_excel('model_cv.xlsx', index=False)"
   ]
  }
 ],
 "metadata": {
  "colab": {
   "authorship_tag": "ABX9TyOmdMjvq37Cum3No1cR13+E",
   "provenance": [
    {
     "file_id": "1YfRlViAcRKodPt9-yMcUaW-cnQ9z-9fY",
     "timestamp": 1749698136346
    },
    {
     "file_id": "1EOlOA6chcdbqTZFUdAwjRh1TiL2znbXV",
     "timestamp": 1749691888604
    },
    {
     "file_id": "1MeHEWJ0O843644Bn_8IZPJLkeWd63qEL",
     "timestamp": 1749645282574
    }
   ]
  },
  "kernelspec": {
   "display_name": "thesis",
   "language": "python",
   "name": "python3"
  },
  "language_info": {
   "codemirror_mode": {
    "name": "ipython",
    "version": 3
   },
   "file_extension": ".py",
   "mimetype": "text/x-python",
   "name": "python",
   "nbconvert_exporter": "python",
   "pygments_lexer": "ipython3",
   "version": "3.11.13"
  }
 },
 "nbformat": 4,
 "nbformat_minor": 0
}
